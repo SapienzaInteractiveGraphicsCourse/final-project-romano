{
 "cells": [
  {
   "cell_type": "code",
   "execution_count": 1,
   "id": "5ec6bc12",
   "metadata": {},
   "outputs": [],
   "source": [
    "#Quaternion Calculator\n",
    "import numpy as np\n",
    "alfa=-90*3.14/180\n",
    "beta=120*3.14/180\n",
    "gamma=45*3.14/180"
   ]
  },
  {
   "cell_type": "code",
   "execution_count": 10,
   "id": "052b8729",
   "metadata": {},
   "outputs": [],
   "source": [
    "R=np.array([[np.cos(alfa)*np.cos(beta)*np.cos(gamma)-np.sin(alfa)*np.sin(gamma)\n",
    "           ,-np.cos(alfa)*np.cos(beta)*np.sin(gamma)-np.sin(alfa)*np.cos(gamma)\n",
    "           ,np.cos(alfa)*np.sin(beta)],\n",
    "            \n",
    "           [np.sin(alfa)*np.cos(beta)*np.cos(gamma)+np.cos(alfa)*np.sin(gamma)\n",
    "           ,-np.sin(alfa)*np.cos(beta)*np.sin(gamma)+np.cos(alfa)*np.cos(gamma)\n",
    "           ,np.sin(alfa)*np.sin(beta)],\n",
    "            \n",
    "           [-np.sin(beta)*np.cos(gamma)\n",
    "           ,np.sin(beta)*np.sin(gamma)\n",
    "           ,np.cos(beta)]])"
   ]
  },
  {
   "cell_type": "code",
   "execution_count": 4,
   "id": "63683d98",
   "metadata": {},
   "outputs": [
    {
     "data": {
      "text/plain": [
       "array([[-0.92333571,  0.21127298, -0.32064761],\n",
       "       [-0.21127298,  0.41776968,  0.88364711],\n",
       "       [ 0.32064761,  0.88364711, -0.34110539]])"
      ]
     },
     "execution_count": 4,
     "metadata": {},
     "output_type": "execute_result"
    }
   ],
   "source": [
    "R"
   ]
  },
  {
   "cell_type": "code",
   "execution_count": 22,
   "id": "4f4fc8fe",
   "metadata": {},
   "outputs": [
    {
     "data": {
      "text/plain": [
       "array([[ 1.       ,  0.       ,  0.       ],\n",
       "       [ 0.       , -0.4990802,  0.8665558],\n",
       "       [ 0.       , -0.8665558, -0.4990802]])"
      ]
     },
     "execution_count": 22,
     "metadata": {},
     "output_type": "execute_result"
    }
   ],
   "source": [
    "\n",
    "gamma=-120*3.14/180\n",
    "R1=np.array([[1,0,0],\n",
    "           [0,np.cos(gamma),-np.sin(gamma)],\n",
    "           [0,np.sin(gamma),np.cos(gamma)]])\n",
    "R1"
   ]
  },
  {
   "cell_type": "code",
   "execution_count": 26,
   "id": "65ce2053",
   "metadata": {},
   "outputs": [
    {
     "data": {
      "text/plain": [
       "array([[ 7.96326711e-04,  1.00000000e+00,  9.99999683e-01],\n",
       "       [ 0.00000000e+00,  1.00000000e+00,  0.00000000e+00],\n",
       "       [-9.99999683e-01,  1.00000000e+00,  7.96326711e-04]])"
      ]
     },
     "execution_count": 26,
     "metadata": {},
     "output_type": "execute_result"
    }
   ],
   "source": [
    "\n",
    "beta=-90*3.14/180\n",
    "R2=np.array([[np.cos(beta),1,np.sin(beta)],\n",
    "           [0,1,0],\n",
    "           [-np.sin(beta),1,np.cos(beta)]])\n",
    "R2"
   ]
  },
  {
   "cell_type": "code",
   "execution_count": 4,
   "id": "25960868",
   "metadata": {},
   "outputs": [
    {
     "data": {
      "text/plain": [
       "array([[ 7.96326711e-04, -9.99999683e-01,  0.00000000e+00],\n",
       "       [ 9.99999683e-01,  7.96326711e-04,  0.00000000e+00],\n",
       "       [ 0.00000000e+00,  0.00000000e+00,  1.00000000e+00]])"
      ]
     },
     "execution_count": 4,
     "metadata": {},
     "output_type": "execute_result"
    }
   ],
   "source": [
    "\n",
    "alfa=-90*3.14/180\n",
    "R3=np.array([[np.cos(alfa),-np.sin(alfa),0],\n",
    "           [np.sin(alfa),np.cos(alfa),0],\n",
    "           [0,0,1]])\n",
    "R3"
   ]
  },
  {
   "cell_type": "code",
   "execution_count": 27,
   "id": "e9054cda",
   "metadata": {},
   "outputs": [],
   "source": [
    "R=R2"
   ]
  },
  {
   "cell_type": "code",
   "execution_count": 30,
   "id": "3218aa9f",
   "metadata": {},
   "outputs": [],
   "source": [
    "q0=0.5*np.sqrt(1+R[0,0]+R[1,1]+R[2,2])\n",
    "\n",
    "inv_q0=1/(4*q0)\n",
    "\n",
    "q1=inv_q0*(R[2,1]-R[1,2])\n",
    "\n",
    "q2=inv_q0*(R[0,2]-R[2,0])\n",
    "\n",
    "q3=inv_q0*(R[1,0]-R[0,1])"
   ]
  },
  {
   "cell_type": "code",
   "execution_count": 31,
   "id": "c396c0c0",
   "metadata": {},
   "outputs": [
    {
     "data": {
      "text/plain": [
       "'{x:0.3534127026086002, y:0.7068251811053659, z:-0.3534127026086002, w:0.7073882691671998}'"
      ]
     },
     "execution_count": 31,
     "metadata": {},
     "output_type": "execute_result"
    }
   ],
   "source": [
    "\"{x:\"+str(q1)+\", \"+\"y:\"+str(q2)+\", \"+\"z:\"+str(q3)+\", \"+\"w:\"+str(q0)+\"}\""
   ]
  },
  {
   "cell_type": "code",
   "execution_count": 123,
   "id": "0567f2e4",
   "metadata": {},
   "outputs": [
    {
     "data": {
      "text/plain": [
       "'[{x:-0.13734020565221053, y:0.23373363509781336, z:-0.6204835244747892, w:0.7358712194336143},{x:-0.13734020565221053, y:0.23373363509781336, z:-0.6204835244747892, w:0.7358712194336143},{x:-0.13734020565221053, y:0.23373363509781336, z:-0.6204835244747892, w:0.7358712194336143},{x:-0.13734020565221053, y:0.23373363509781336, z:-0.6204835244747892, w:0.7358712194336143},{x:-0.13734020565221053, y:0.23373363509781336, z:-0.6204835244747892, w:0.7358712194336143}]'"
      ]
     },
     "execution_count": 123,
     "metadata": {},
     "output_type": "execute_result"
    }
   ],
   "source": [
    "\"[{x:\"+str(q1)+\", \"+\"y:\"+str(q2)+\", \"+\"z:\"+str(q3)+\", \"+\"w:\"+str(q0)+\"},\"+\"{x:\"+str(q1)+\", \"+\"y:\"+str(q2)+\", \"+\"z:\"+str(q3)+\", \"+\"w:\"+str(q0)+\"},\"+\"{x:\"+str(q1)+\", \"+\"y:\"+str(q2)+\", \"+\"z:\"+str(q3)+\", \"+\"w:\"+str(q0)+\"},\"+\"{x:\"+str(q1)+\", \"+\"y:\"+str(q2)+\", \"+\"z:\"+str(q3)+\", \"+\"w:\"+str(q0)+\"},\"+\"{x:\"+str(q1)+\", \"+\"y:\"+str(q2)+\", \"+\"z:\"+str(q3)+\", \"+\"w:\"+str(q0)+\"}]\""
   ]
  },
  {
   "cell_type": "code",
   "execution_count": 253,
   "id": "3a59bdfd",
   "metadata": {},
   "outputs": [
    {
     "data": {
      "text/plain": [
       "'{x:-0.8337801742052777, y:0, z:0, w:0.15425144988758405}'"
      ]
     },
     "execution_count": 253,
     "metadata": {},
     "output_type": "execute_result"
    }
   ],
   "source": [
    "\n",
    "rot_x=np.cos(gamma/2)+np.sin(gamma/2)\n",
    "\n",
    "\"{x:\"+str(rot_x)+\", \"+\"y:\"+str(0)+\", \"+\"z:\"+str(0)+\", \"+\"w:\"+str(np.cos(gamma/2))+\"}\""
   ]
  },
  {
   "cell_type": "code",
   "execution_count": 249,
   "id": "b9c868e9",
   "metadata": {},
   "outputs": [
    {
     "data": {
      "text/plain": [
       "'{x:0, y:-0.8337801742052777, z:0, w:0}'"
      ]
     },
     "execution_count": 249,
     "metadata": {},
     "output_type": "execute_result"
    }
   ],
   "source": [
    "\n",
    "rot_y=np.cos(beta/2)+np.sin(beta/2)\n",
    "\n",
    "\"{x:\"+str(0)+\", \"+\"y:\"+str(rot_y)+\", \"+\"z:\"+str(0)+\", \"+\"w:\"+str(np.cos(beta/2))+\"}\""
   ]
  },
  {
   "cell_type": "code",
   "execution_count": 250,
   "id": "f640b64b",
   "metadata": {},
   "outputs": [
    {
     "data": {
      "text/plain": [
       "'{x:0, y:0, z:1.0, w:0}'"
      ]
     },
     "execution_count": 250,
     "metadata": {},
     "output_type": "execute_result"
    }
   ],
   "source": [
    "\n",
    "rot_z=np.cos(alfa/2)+np.sin(alfa/2)\n",
    "\n",
    "\"{x:\"+str(0)+\", \"+\"y:\"+str(0)+\", \"+\"z:\"+str(rot_z)+\", \"+\"w:\"+str(np.cos(alfa/2))+\"}\""
   ]
  },
  {
   "cell_type": "code",
   "execution_count": 136,
   "id": "ee05055a",
   "metadata": {},
   "outputs": [],
   "source": [
    "\n",
    "alfa=0*3.14/180 #X\n",
    "beta=-30*3.14/180 #Y\n",
    "gamma=60*3.14/180 #Z\n",
    "\n",
    "q1 = np.sin(gamma/2) * np.cos(beta/2) * np.cos(alfa/2) - np.cos(gamma/2) * np.sin(beta/2) * np.sin(alfa/2)\n",
    "q2 = np.cos(gamma/2) * np.sin(beta/2) * np.cos(alfa/2) + np.sin(gamma/2) * np.cos(beta/2) * np.sin(alfa/2)\n",
    "q3 = np.cos(gamma/2) * np.cos(beta/2) * np.sin(alfa/2) - np.sin(gamma/2) * np.sin(beta/2) * np.cos(alfa/2)\n",
    "q0 = np.cos(gamma/2) * np.cos(beta/2) * np.cos(alfa/2) + np.sin(gamma/2) * np.sin(beta/2) * np.sin(alfa/2)\n"
   ]
  },
  {
   "cell_type": "code",
   "execution_count": 137,
   "id": "7eb54a89",
   "metadata": {},
   "outputs": [
    {
     "data": {
      "text/plain": [
       "'{x:0.48275801257958395, y:-0.22406716852578193, z:0.12928594968559942, w:0.8366742188527992}'"
      ]
     },
     "execution_count": 137,
     "metadata": {},
     "output_type": "execute_result"
    }
   ],
   "source": [
    "\"{x:\"+str(q1)+\", \"+\"y:\"+str(q2)+\", \"+\"z:\"+str(q3)+\", \"+\"w:\"+str(q0)+\"}\""
   ]
  },
  {
   "cell_type": "code",
   "execution_count": null,
   "id": "7cd7c701",
   "metadata": {},
   "outputs": [],
   "source": []
  },
  {
   "cell_type": "code",
   "execution_count": 74,
   "id": "c295594d",
   "metadata": {},
   "outputs": [
    {
     "data": {
      "text/plain": [
       "0.9980975804919925"
      ]
     },
     "execution_count": 74,
     "metadata": {},
     "output_type": "execute_result"
    }
   ],
   "source": [
    "x= -0.609999000149975006\n",
    "y=0.0\n",
    "z=0\n",
    "w=0.79\n",
    "\n",
    "np.sqrt(x*x+y*y+z*z+w*w)"
   ]
  }
 ],
 "metadata": {
  "kernelspec": {
   "display_name": "Python 3",
   "language": "python",
   "name": "python3"
  },
  "language_info": {
   "codemirror_mode": {
    "name": "ipython",
    "version": 3
   },
   "file_extension": ".py",
   "mimetype": "text/x-python",
   "name": "python",
   "nbconvert_exporter": "python",
   "pygments_lexer": "ipython3",
   "version": "3.7.9"
  }
 },
 "nbformat": 4,
 "nbformat_minor": 5
}
